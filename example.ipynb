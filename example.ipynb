{
 "cells": [
  {
   "cell_type": "code",
   "execution_count": 8,
   "metadata": {},
   "outputs": [],
   "source": [
    "from RediQ import RediQ\n",
    "redisObj = RediQ()\n",
    "for i in range(1000):\n",
    "    redisObj.set_message({'value':\"a\"+str(i),'number':1000-i})"
   ]
  },
  {
   "cell_type": "code",
   "execution_count": 4,
   "metadata": {},
   "outputs": [
    {
     "name": "stdout",
     "output_type": "stream",
     "text": [
      "1000\n",
      "0\n"
     ]
    }
   ],
   "source": [
    "print(redisObj.check_queue_length())\n",
    "print(redisObj.check_holdqueue_length())"
   ]
  },
  {
   "cell_type": "code",
   "execution_count": 5,
   "metadata": {},
   "outputs": [],
   "source": [
    "for i in range((redisObj.check_queue_length())):\n",
    "    mes = redisObj.get_message()\n",
    "    mesId = mes['messageID']\n",
    "    #---something job----\n",
    "    redisObj.consume_message(messageID=mesId)"
   ]
  },
  {
   "cell_type": "code",
   "execution_count": 6,
   "metadata": {},
   "outputs": [
    {
     "data": {
      "text/plain": [
       "{'queueID': 'rediQ:6d10e39116a74dc5a9bdc8b306c14ce8',\n",
       " 'setTime': '2025-04-05T18:05:55.290906',\n",
       " 'messageID': 'rediQ:6d10e39116a74dc5a9bdc8b306c14ce8_f4169aa6cd4b4d0f81ffa781428c6214',\n",
       " 'content': {'value': 'a999', 'number': 1},\n",
       " 'visibleTime': '100'}"
      ]
     },
     "execution_count": 6,
     "metadata": {},
     "output_type": "execute_result"
    }
   ],
   "source": [
    "mes"
   ]
  },
  {
   "cell_type": "code",
   "execution_count": null,
   "metadata": {},
   "outputs": [],
   "source": []
  }
 ],
 "metadata": {
  "kernelspec": {
   "display_name": "Python 3",
   "language": "python",
   "name": "python3"
  },
  "language_info": {
   "codemirror_mode": {
    "name": "ipython",
    "version": 3
   },
   "file_extension": ".py",
   "mimetype": "text/x-python",
   "name": "python",
   "nbconvert_exporter": "python",
   "pygments_lexer": "ipython3",
   "version": "3.11.3"
  }
 },
 "nbformat": 4,
 "nbformat_minor": 2
}
